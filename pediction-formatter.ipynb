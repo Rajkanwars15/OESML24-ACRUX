{
 "cells": [
  {
   "cell_type": "code",
   "execution_count": 1,
   "id": "8c2f571d",
   "metadata": {},
   "outputs": [
    {
     "name": "stderr",
     "output_type": "stream",
     "text": [
      "/Users/raj/anaconda3/lib/python3.11/site-packages/pandas/core/arrays/masked.py:60: UserWarning: Pandas requires version '1.3.6' or newer of 'bottleneck' (version '1.3.5' currently installed).\n",
      "  from pandas.core import (\n"
     ]
    }
   ],
   "source": [
    "import pandas as pd\n",
    "df = pd.read_csv('telemetry_for_operations_validation.csv')"
   ]
  },
  {
   "cell_type": "code",
   "execution_count": 3,
   "id": "93e29794",
   "metadata": {},
   "outputs": [],
   "source": [
    "import numpy as np\n",
    "def haversine(lat1, lon1, lat2, lon2):\n",
    "    R = 6371.0  # Earth radius in kilometers\n",
    "    lat1, lon1, lat2, lon2 = map(np.radians, [lat1, lon1, lat2, lon2])\n",
    "    dlat = lat2 - lat1\n",
    "    dlon = lon2 - lon1\n",
    "    a = np.sin(dlat / 2)**2 + np.cos(lat1) * np.cos(lat2) * np.sin(dlon / 2)**2\n",
    "    c = 2 * np.arctan2(np.sqrt(a), np.sqrt(1 - a))\n",
    "    distance = R * c\n",
    "    return distance\n",
    "\n",
    "# Calculating distance between consecutive rows\n",
    "df['distance'] = haversine(df['lat'].shift(), df['lon'].shift(),\n",
    "                                        df['lat'], df['lon'])"
   ]
  },
  {
   "cell_type": "code",
   "execution_count": null,
   "id": "c2b46f96",
   "metadata": {},
   "outputs": [],
   "source": [
    "df.to_csv('processed_telemetry_train.csv', index=False)"
   ]
  },
  {
   "cell_type": "code",
   "execution_count": 161,
   "id": "cd614dc0",
   "metadata": {},
   "outputs": [],
   "source": [
    "import pandas as pd\n",
    "pred = pd.read_csv('autodlmodel4.csv')"
   ]
  },
  {
   "cell_type": "code",
   "execution_count": 162,
   "id": "9725a719",
   "metadata": {},
   "outputs": [
    {
     "name": "stdout",
     "output_type": "stream",
     "text": [
      "<class 'pandas.core.frame.DataFrame'>\n",
      "RangeIndex: 260111 entries, 0 to 260110\n",
      "Data columns (total 6 columns):\n",
      " #   Column   Non-Null Count   Dtype  \n",
      "---  ------   --------------   -----  \n",
      " 0   predict  260111 non-null  int64  \n",
      " 1   p0       260111 non-null  float64\n",
      " 2   p1       260111 non-null  float64\n",
      " 3   p2       260111 non-null  float64\n",
      " 4   p3       260111 non-null  float64\n",
      " 5   p5       260111 non-null  float64\n",
      "dtypes: float64(5), int64(1)\n",
      "memory usage: 11.9 MB\n"
     ]
    }
   ],
   "source": [
    "pred.info()"
   ]
  },
  {
   "cell_type": "code",
   "execution_count": 163,
   "id": "e077169b",
   "metadata": {},
   "outputs": [
    {
     "name": "stdout",
     "output_type": "stream",
     "text": [
      "<class 'pandas.core.frame.DataFrame'>\n",
      "RangeIndex: 260111 entries, 0 to 260110\n",
      "Data columns (total 1 columns):\n",
      " #   Column   Non-Null Count   Dtype\n",
      "---  ------   --------------   -----\n",
      " 0   predict  260111 non-null  int64\n",
      "dtypes: int64(1)\n",
      "memory usage: 2.0 MB\n"
     ]
    }
   ],
   "source": [
    "# Drop the columns 'p0', 'p1', 'p2', 'p3', 'p5'\n",
    "pred.drop(['p0', 'p1', 'p2', 'p3', 'p5'], axis=1, inplace=True)\n",
    "\n",
    "# Check the DataFrame info after dropping\n",
    "pred.info()\n"
   ]
  },
  {
   "cell_type": "code",
   "execution_count": 164,
   "id": "4a9817f5",
   "metadata": {},
   "outputs": [],
   "source": [
    "df = pd.read_csv('processed_telemetry_valid.csv')"
   ]
  },
  {
   "cell_type": "code",
   "execution_count": 165,
   "id": "9d7681f6",
   "metadata": {},
   "outputs": [
    {
     "name": "stdout",
     "output_type": "stream",
     "text": [
      "<class 'pandas.core.frame.DataFrame'>\n",
      "RangeIndex: 260111 entries, 0 to 260110\n",
      "Data columns (total 13 columns):\n",
      " #   Column             Non-Null Count   Dtype  \n",
      "---  ------             --------------   -----  \n",
      " 0   create_dt          260111 non-null  object \n",
      " 1   mdm_object_name    260111 non-null  int64  \n",
      " 2   mdm_model_id       260111 non-null  int64  \n",
      " 3   lon                260111 non-null  float64\n",
      " 4   lat                260111 non-null  float64\n",
      " 5   alt                260111 non-null  int64  \n",
      " 6   speed_gps          260111 non-null  float64\n",
      " 7   direction          260111 non-null  float64\n",
      " 8   accel_forward_nn   260111 non-null  float64\n",
      " 9   accel_braking_nn   260111 non-null  float64\n",
      " 10  accel_angular_nn   260111 non-null  float64\n",
      " 11  accel_vertical_nn  260111 non-null  float64\n",
      " 12  distance           260110 non-null  float64\n",
      "dtypes: float64(9), int64(3), object(1)\n",
      "memory usage: 25.8+ MB\n"
     ]
    }
   ],
   "source": [
    "df.info()"
   ]
  },
  {
   "cell_type": "code",
   "execution_count": 166,
   "id": "eb9e28f7",
   "metadata": {},
   "outputs": [
    {
     "name": "stdout",
     "output_type": "stream",
     "text": [
      "<class 'pandas.core.frame.DataFrame'>\n",
      "RangeIndex: 260111 entries, 0 to 260110\n",
      "Data columns (total 14 columns):\n",
      " #   Column             Non-Null Count   Dtype  \n",
      "---  ------             --------------   -----  \n",
      " 0   create_dt          260111 non-null  object \n",
      " 1   mdm_object_name    260111 non-null  int64  \n",
      " 2   mdm_model_id       260111 non-null  int64  \n",
      " 3   lon                260111 non-null  float64\n",
      " 4   lat                260111 non-null  float64\n",
      " 5   alt                260111 non-null  int64  \n",
      " 6   speed_gps          260111 non-null  float64\n",
      " 7   direction          260111 non-null  float64\n",
      " 8   accel_forward_nn   260111 non-null  float64\n",
      " 9   accel_braking_nn   260111 non-null  float64\n",
      " 10  accel_angular_nn   260111 non-null  float64\n",
      " 11  accel_vertical_nn  260111 non-null  float64\n",
      " 12  distance           260110 non-null  float64\n",
      " 13  SNo                260111 non-null  int64  \n",
      "dtypes: float64(9), int64(4), object(1)\n",
      "memory usage: 27.8+ MB\n",
      "None\n",
      "<class 'pandas.core.frame.DataFrame'>\n",
      "RangeIndex: 260111 entries, 0 to 260110\n",
      "Data columns (total 2 columns):\n",
      " #   Column   Non-Null Count   Dtype\n",
      "---  ------   --------------   -----\n",
      " 0   predict  260111 non-null  int64\n",
      " 1   SNo      260111 non-null  int64\n",
      "dtypes: int64(2)\n",
      "memory usage: 4.0 MB\n",
      "None\n"
     ]
    }
   ],
   "source": [
    "df['SNo'] = range(1, len(df) + 1)\n",
    "print(df.info())\n",
    "pred['SNo'] = range(1, len(pred) + 1)\n",
    "print(pred.info())"
   ]
  },
  {
   "cell_type": "code",
   "execution_count": 167,
   "id": "a8d4b84d",
   "metadata": {},
   "outputs": [
    {
     "name": "stdout",
     "output_type": "stream",
     "text": [
      "\n",
      "Merged DataFrame:\n",
      "<class 'pandas.core.frame.DataFrame'>\n",
      "RangeIndex: 260111 entries, 0 to 260110\n",
      "Data columns (total 15 columns):\n",
      " #   Column             Non-Null Count   Dtype  \n",
      "---  ------             --------------   -----  \n",
      " 0   create_dt          260111 non-null  object \n",
      " 1   mdm_object_name    260111 non-null  int64  \n",
      " 2   mdm_model_id       260111 non-null  int64  \n",
      " 3   lon                260111 non-null  float64\n",
      " 4   lat                260111 non-null  float64\n",
      " 5   alt                260111 non-null  int64  \n",
      " 6   speed_gps          260111 non-null  float64\n",
      " 7   direction          260111 non-null  float64\n",
      " 8   accel_forward_nn   260111 non-null  float64\n",
      " 9   accel_braking_nn   260111 non-null  float64\n",
      " 10  accel_angular_nn   260111 non-null  float64\n",
      " 11  accel_vertical_nn  260111 non-null  float64\n",
      " 12  distance           260110 non-null  float64\n",
      " 13  SNo                260111 non-null  int64  \n",
      " 14  predict            260111 non-null  int64  \n",
      "dtypes: float64(9), int64(5), object(1)\n",
      "memory usage: 29.8+ MB\n",
      "None\n"
     ]
    }
   ],
   "source": [
    "# Merging the two DataFrames on SNo\n",
    "merged_df = pd.merge(df, pred, on='SNo')\n",
    "\n",
    "# Display the merged DataFrame\n",
    "print(\"\\nMerged DataFrame:\")\n",
    "print(merged_df.info())"
   ]
  },
  {
   "cell_type": "code",
   "execution_count": 168,
   "id": "e750a92c",
   "metadata": {},
   "outputs": [
    {
     "name": "stdout",
     "output_type": "stream",
     "text": [
      "<class 'pandas.core.frame.DataFrame'>\n",
      "RangeIndex: 260111 entries, 0 to 260110\n",
      "Data columns (total 3 columns):\n",
      " #   Column             Non-Null Count   Dtype \n",
      "---  ------             --------------   ----- \n",
      " 0   create_dt          260111 non-null  object\n",
      " 1   mdm_object_name    260111 non-null  int64 \n",
      " 2   operation_kind_id  260111 non-null  int64 \n",
      "dtypes: int64(2), object(1)\n",
      "memory usage: 6.0+ MB\n"
     ]
    }
   ],
   "source": [
    "merged_df = merged_df[['create_dt', 'mdm_object_name', 'predict']].rename(columns={'predict': 'operation_kind_id'})\n",
    "merged_df.info()"
   ]
  },
  {
   "cell_type": "code",
   "execution_count": 136,
   "id": "ff832dd7",
   "metadata": {},
   "outputs": [],
   "source": [
    "# # Convert operation_kind_id to integers\n",
    "# merged_df['operation_kind_id'] = pd.factorize(merged_df['operation_kind_id'])[0]\n",
    "\n",
    "# # Ensure the column is of integer type\n",
    "# merged_df['operation_kind_id'] = merged_df['operation_kind_id'].astype(int)\n"
   ]
  },
  {
   "cell_type": "code",
   "execution_count": 169,
   "id": "9f67829a",
   "metadata": {},
   "outputs": [
    {
     "name": "stdout",
     "output_type": "stream",
     "text": [
      "Class Distribution:\n",
      "operation_kind_id\n",
      "2    0.377074\n",
      "5    0.333992\n",
      "0    0.227511\n",
      "1    0.061412\n",
      "3    0.000012\n",
      "Name: proportion, dtype: float64\n"
     ]
    }
   ],
   "source": [
    "import pandas as pd\n",
    "\n",
    "class_distribution_before = merged_df['operation_kind_id'].value_counts(normalize=True)\n",
    "print(\"Class Distribution:\")\n",
    "print(class_distribution_before)"
   ]
  },
  {
   "cell_type": "code",
   "execution_count": 170,
   "id": "4e149cde",
   "metadata": {},
   "outputs": [
    {
     "name": "stdout",
     "output_type": "stream",
     "text": [
      "<class 'pandas.core.frame.DataFrame'>\n",
      "RangeIndex: 260111 entries, 0 to 260110\n",
      "Data columns (total 3 columns):\n",
      " #   Column             Non-Null Count   Dtype \n",
      "---  ------             --------------   ----- \n",
      " 0   create_dt          260111 non-null  object\n",
      " 1   mdm_object_name    260111 non-null  int64 \n",
      " 2   operation_kind_id  260111 non-null  int64 \n",
      "dtypes: int64(2), object(1)\n",
      "memory usage: 6.0+ MB\n"
     ]
    }
   ],
   "source": [
    "merged_df.info()"
   ]
  },
  {
   "cell_type": "code",
   "execution_count": 171,
   "id": "9b16f339",
   "metadata": {},
   "outputs": [],
   "source": [
    "merged_df.to_csv('auto.csv')"
   ]
  },
  {
   "cell_type": "code",
   "execution_count": null,
   "id": "09745cd5",
   "metadata": {},
   "outputs": [],
   "source": []
  }
 ],
 "metadata": {
  "kernelspec": {
   "display_name": "Python 3 (ipykernel)",
   "language": "python",
   "name": "python3"
  },
  "language_info": {
   "codemirror_mode": {
    "name": "ipython",
    "version": 3
   },
   "file_extension": ".py",
   "mimetype": "text/x-python",
   "name": "python",
   "nbconvert_exporter": "python",
   "pygments_lexer": "ipython3",
   "version": "3.11.5"
  }
 },
 "nbformat": 4,
 "nbformat_minor": 5
}
